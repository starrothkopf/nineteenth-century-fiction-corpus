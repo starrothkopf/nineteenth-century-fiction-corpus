{
 "cells": [
  {
   "cell_type": "markdown",
   "metadata": {},
   "source": [
    "# Percentage of fiction volumes labeled fiction"
   ]
  },
  {
   "cell_type": "code",
   "execution_count": 14,
   "metadata": {},
   "outputs": [],
   "source": [
    "import pandas as pd\n",
    "import numpy as np\n",
    "from matplotlib import pyplot as plt\n",
    "%matplotlib inline\n",
    "from collections import Counter\n",
    "import seaborn as sns"
   ]
  },
  {
   "cell_type": "code",
   "execution_count": 3,
   "metadata": {},
   "outputs": [
    {
     "data": {
      "text/html": [
       "<div>\n",
       "<style scoped>\n",
       "    .dataframe tbody tr th:only-of-type {\n",
       "        vertical-align: middle;\n",
       "    }\n",
       "\n",
       "    .dataframe tbody tr th {\n",
       "        vertical-align: top;\n",
       "    }\n",
       "\n",
       "    .dataframe thead th {\n",
       "        text-align: right;\n",
       "    }\n",
       "</style>\n",
       "<table border=\"1\" class=\"dataframe\">\n",
       "  <thead>\n",
       "    <tr style=\"text-align: right;\">\n",
       "      <th></th>\n",
       "      <th>author</th>\n",
       "      <th>realname</th>\n",
       "      <th>pseudonym</th>\n",
       "      <th>gender</th>\n",
       "      <th>nationality</th>\n",
       "      <th>authordate</th>\n",
       "      <th>inferreddate</th>\n",
       "      <th>firstpub</th>\n",
       "      <th>latestcomp</th>\n",
       "      <th>allcopiesofwork</th>\n",
       "      <th>copiesin25yrs</th>\n",
       "      <th>enumcron</th>\n",
       "      <th>imprint</th>\n",
       "      <th>genres</th>\n",
       "      <th>subjects</th>\n",
       "      <th>shorttitle</th>\n",
       "      <th>category</th>\n",
       "      <th>hathiadvent</th>\n",
       "    </tr>\n",
       "    <tr>\n",
       "      <th>docid</th>\n",
       "      <th></th>\n",
       "      <th></th>\n",
       "      <th></th>\n",
       "      <th></th>\n",
       "      <th></th>\n",
       "      <th></th>\n",
       "      <th></th>\n",
       "      <th></th>\n",
       "      <th></th>\n",
       "      <th></th>\n",
       "      <th></th>\n",
       "      <th></th>\n",
       "      <th></th>\n",
       "      <th></th>\n",
       "      <th></th>\n",
       "      <th></th>\n",
       "      <th></th>\n",
       "      <th></th>\n",
       "    </tr>\n",
       "  </thead>\n",
       "  <tbody>\n",
       "    <tr>\n",
       "      <th>mdp.49015000838012</th>\n",
       "      <td>Fraser, Peter</td>\n",
       "      <td>NaN</td>\n",
       "      <td>NaN</td>\n",
       "      <td>m</td>\n",
       "      <td>us</td>\n",
       "      <td>1932-</td>\n",
       "      <td>1971</td>\n",
       "      <td>1971</td>\n",
       "      <td>1971</td>\n",
       "      <td>1</td>\n",
       "      <td>1</td>\n",
       "      <td>NaN</td>\n",
       "      <td>Boston|Plays inc.|1971</td>\n",
       "      <td>Bibliographies|NotFiction</td>\n",
       "      <td>Puppet theater</td>\n",
       "      <td>Puppet circus</td>\n",
       "      <td>notfiction</td>\n",
       "      <td>contemporary</td>\n",
       "    </tr>\n",
       "    <tr>\n",
       "      <th>mdp.39015063561586</th>\n",
       "      <td>Ferrier, Susan</td>\n",
       "      <td>Ferrier, Susan Edmonstone</td>\n",
       "      <td>NaN</td>\n",
       "      <td>f</td>\n",
       "      <td>uk</td>\n",
       "      <td>1782-1854.</td>\n",
       "      <td>1818</td>\n",
       "      <td>1818</td>\n",
       "      <td>1818</td>\n",
       "      <td>5</td>\n",
       "      <td>3</td>\n",
       "      <td>v.2</td>\n",
       "      <td>Edinburgh;W. Blackwood and J. Murray;1818.</td>\n",
       "      <td>Bibliographies|Fiction</td>\n",
       "      <td>English fiction</td>\n",
       "      <td>Marriage, a novel</td>\n",
       "      <td>longfiction</td>\n",
       "      <td>contemporary</td>\n",
       "    </tr>\n",
       "    <tr>\n",
       "      <th>uiuo.ark+=13960=t8nc6b618</th>\n",
       "      <td>Neri, Mary Anne</td>\n",
       "      <td>Neri, Mary Anne</td>\n",
       "      <td>NaN</td>\n",
       "      <td>f</td>\n",
       "      <td>it</td>\n",
       "      <td>NaN</td>\n",
       "      <td>1804</td>\n",
       "      <td>1804</td>\n",
       "      <td>1804</td>\n",
       "      <td>1</td>\n",
       "      <td>1</td>\n",
       "      <td>v.1</td>\n",
       "      <td>London;Printed for T. Cadell and W. Davies by ...</td>\n",
       "      <td>Novel|Fiction</td>\n",
       "      <td>NaN</td>\n",
       "      <td>The eve of San-Pietro</td>\n",
       "      <td>longfiction</td>\n",
       "      <td>contemporary</td>\n",
       "    </tr>\n",
       "    <tr>\n",
       "      <th>uc1.$b473613</th>\n",
       "      <td>Mann, Erika</td>\n",
       "      <td>Mann, Erika</td>\n",
       "      <td>NaN</td>\n",
       "      <td>f</td>\n",
       "      <td>de</td>\n",
       "      <td>1905-1969.</td>\n",
       "      <td>1940</td>\n",
       "      <td>1940</td>\n",
       "      <td>1940</td>\n",
       "      <td>1</td>\n",
       "      <td>1</td>\n",
       "      <td>NaN</td>\n",
       "      <td>New York|Toronto|Farrar &amp; Rinehart, inc.|c1940</td>\n",
       "      <td>NotFiction</td>\n",
       "      <td>Social life and customs</td>\n",
       "      <td>The lights go down</td>\n",
       "      <td>longfiction</td>\n",
       "      <td>contemporary</td>\n",
       "    </tr>\n",
       "    <tr>\n",
       "      <th>nyp.33433074931597</th>\n",
       "      <td>Forrester, Charles Robert</td>\n",
       "      <td>Forrester, Charles Robert</td>\n",
       "      <td>Crowquill, Alfred; Willis, Hal</td>\n",
       "      <td>m</td>\n",
       "      <td>uk</td>\n",
       "      <td>1803-1850.</td>\n",
       "      <td>1843</td>\n",
       "      <td>1843</td>\n",
       "      <td>1843</td>\n",
       "      <td>2</td>\n",
       "      <td>2</td>\n",
       "      <td>v. 2</td>\n",
       "      <td>London;R. Bentley;1843.</td>\n",
       "      <td>NotFiction</td>\n",
       "      <td>NaN</td>\n",
       "      <td>Phantasmagoria of fun</td>\n",
       "      <td>juvenile</td>\n",
       "      <td>contemporary</td>\n",
       "    </tr>\n",
       "  </tbody>\n",
       "</table>\n",
       "</div>"
      ],
      "text/plain": [
       "                                              author  \\\n",
       "docid                                                  \n",
       "mdp.49015000838012                     Fraser, Peter   \n",
       "mdp.39015063561586                    Ferrier, Susan   \n",
       "uiuo.ark+=13960=t8nc6b618            Neri, Mary Anne   \n",
       "uc1.$b473613                             Mann, Erika   \n",
       "nyp.33433074931597         Forrester, Charles Robert   \n",
       "\n",
       "                                            realname  \\\n",
       "docid                                                  \n",
       "mdp.49015000838012                               NaN   \n",
       "mdp.39015063561586         Ferrier, Susan Edmonstone   \n",
       "uiuo.ark+=13960=t8nc6b618            Neri, Mary Anne   \n",
       "uc1.$b473613                             Mann, Erika   \n",
       "nyp.33433074931597         Forrester, Charles Robert   \n",
       "\n",
       "                                                pseudonym gender nationality  \\\n",
       "docid                                                                          \n",
       "mdp.49015000838012                                    NaN      m          us   \n",
       "mdp.39015063561586                                    NaN      f          uk   \n",
       "uiuo.ark+=13960=t8nc6b618                             NaN      f          it   \n",
       "uc1.$b473613                                          NaN      f          de   \n",
       "nyp.33433074931597         Crowquill, Alfred; Willis, Hal      m          uk   \n",
       "\n",
       "                           authordate  inferreddate  firstpub  latestcomp  \\\n",
       "docid                                                                       \n",
       "mdp.49015000838012              1932-          1971      1971        1971   \n",
       "mdp.39015063561586         1782-1854.          1818      1818        1818   \n",
       "uiuo.ark+=13960=t8nc6b618         NaN          1804      1804        1804   \n",
       "uc1.$b473613               1905-1969.          1940      1940        1940   \n",
       "nyp.33433074931597         1803-1850.          1843      1843        1843   \n",
       "\n",
       "                           allcopiesofwork  copiesin25yrs enumcron  \\\n",
       "docid                                                                \n",
       "mdp.49015000838012                       1              1      NaN   \n",
       "mdp.39015063561586                       5              3      v.2   \n",
       "uiuo.ark+=13960=t8nc6b618                1              1      v.1   \n",
       "uc1.$b473613                             1              1      NaN   \n",
       "nyp.33433074931597                       2              2     v. 2   \n",
       "\n",
       "                                                                     imprint  \\\n",
       "docid                                                                          \n",
       "mdp.49015000838012                                    Boston|Plays inc.|1971   \n",
       "mdp.39015063561586                Edinburgh;W. Blackwood and J. Murray;1818.   \n",
       "uiuo.ark+=13960=t8nc6b618  London;Printed for T. Cadell and W. Davies by ...   \n",
       "uc1.$b473613                  New York|Toronto|Farrar & Rinehart, inc.|c1940   \n",
       "nyp.33433074931597                                   London;R. Bentley;1843.   \n",
       "\n",
       "                                              genres                 subjects  \\\n",
       "docid                                                                           \n",
       "mdp.49015000838012         Bibliographies|NotFiction           Puppet theater   \n",
       "mdp.39015063561586            Bibliographies|Fiction          English fiction   \n",
       "uiuo.ark+=13960=t8nc6b618              Novel|Fiction                      NaN   \n",
       "uc1.$b473613                              NotFiction  Social life and customs   \n",
       "nyp.33433074931597                        NotFiction                      NaN   \n",
       "\n",
       "                                      shorttitle     category   hathiadvent  \n",
       "docid                                                                        \n",
       "mdp.49015000838012                 Puppet circus   notfiction  contemporary  \n",
       "mdp.39015063561586             Marriage, a novel  longfiction  contemporary  \n",
       "uiuo.ark+=13960=t8nc6b618  The eve of San-Pietro  longfiction  contemporary  \n",
       "uc1.$b473613                  The lights go down  longfiction  contemporary  \n",
       "nyp.33433074931597         Phantasmagoria of fun     juvenile  contemporary  "
      ]
     },
     "execution_count": 3,
     "metadata": {},
     "output_type": "execute_result"
    }
   ],
   "source": [
    "work = pd.read_csv('../manuallists/manual_title_subset.tsv', sep = '\\t', index_col = 'docid', low_memory=False)\n",
    "work.head()"
   ]
  },
  {
   "cell_type": "code",
   "execution_count": 4,
   "metadata": {},
   "outputs": [
    {
     "data": {
      "text/plain": [
       "Index(['author', 'realname', 'pseudonym', 'gender', 'nationality',\n",
       "       'authordate', 'inferreddate', 'firstpub', 'latestcomp',\n",
       "       'allcopiesofwork', 'copiesin25yrs', 'enumcron', 'imprint', 'genres',\n",
       "       'subjects', 'shorttitle', 'category', 'hathiadvent'],\n",
       "      dtype='object')"
      ]
     },
     "execution_count": 4,
     "metadata": {},
     "output_type": "execute_result"
    }
   ],
   "source": [
    "work.columns"
   ]
  },
  {
   "cell_type": "code",
   "execution_count": 5,
   "metadata": {},
   "outputs": [
    {
     "name": "stdout",
     "output_type": "stream",
     "text": [
      "[('Fiction', 1361), ('NotFiction', 876), ('UnknownGenre', 100), ('Juvenile audience', 71), ('Bibliographies', 59), ('Novel', 54), ('Historical fiction', 21), ('Short stories', 19), ('ContainsBiogMaterial', 15), ('Domestic fiction', 15), ('Detective and mystery stories', 13), ('Psychological fiction', 12), ('Love stories', 11), ('Mystery fiction', 9), ('War stories', 8), ('Biography', 6), ('Science fiction', 5), ('Bildungsromans', 4), ('Humorous stories', 4), ('Juvenile literature', 4), (\"Publishers' advertisements\", 4), ('Western stories', 3), ('NotBiographical', 3), ('Humorous fiction', 3), ('Suspense fiction', 3)]\n"
     ]
    }
   ],
   "source": [
    "allgenres = Counter()\n",
    "for index, row in work.iterrows():\n",
    "    if pd.isnull(row.genres):\n",
    "        continue\n",
    "    g = set(row.genres.split('|'))\n",
    "    for genre in g:\n",
    "        allgenres[genre] += 1\n",
    "print(allgenres.most_common(25))"
   ]
  },
  {
   "cell_type": "code",
   "execution_count": 11,
   "metadata": {},
   "outputs": [],
   "source": [
    "alltitles = Counter()\n",
    "fictiontitles = Counter()\n",
    "ficclues = {'Fiction', 'Novel', 'Short stories', 'Domestic fiction', 'Love stories', \n",
    "            'Historical fiction', 'Psychological fiction', \"Detective and mystery stories\",\n",
    "           \"Mystery fiction\"}\n",
    "fictiondefinition = {'longfiction', 'shortfiction', 'juvenile'}\n",
    "\n",
    "for index, row in work.iterrows():\n",
    "    if not row.category in fictiondefinition:\n",
    "        continue\n",
    "    date = int(row.latestcomp)\n",
    "    alltitles[date] += 1\n",
    "    \n",
    "    if pd.isnull(row.genres):\n",
    "        continue\n",
    "    g = set(row.genres.split('|'))\n",
    "    fiction = False\n",
    "    for genre in g:\n",
    "        if genre in ficclues:\n",
    "            fiction = True\n",
    "            break\n",
    "    if fiction:\n",
    "        fictiontitles[date] += 1\n",
    "\n",
    "        "
   ]
  },
  {
   "cell_type": "code",
   "execution_count": 12,
   "metadata": {},
   "outputs": [
    {
     "data": {
      "text/plain": [
       "[<matplotlib.lines.Line2D at 0x128006cc0>]"
      ]
     },
     "execution_count": 12,
     "metadata": {},
     "output_type": "execute_result"
    },
    {
     "data": {
      "image/png": "[encoded data removed]",
      "text/plain": [
       "<matplotlib.figure.Figure at 0x11c3a5c18>"
      ]
     },
     "metadata": {},
     "output_type": "display_data"
    }
   ],
   "source": [
    "x = []\n",
    "y = []\n",
    "for i in range(1800, 2008):\n",
    "    fiction5yr = 0\n",
    "    all5yr = 0\n",
    "    for j in range(i - 2, i + 3):\n",
    "        if j in alltitles and alltitles[j] > 0:\n",
    "            fiction5yr += fictiontitles[j]\n",
    "            all5yr += alltitles[j]\n",
    "            \n",
    "    if all5yr > 0:\n",
    "        ratio = fiction5yr / all5yr\n",
    "    else:\n",
    "        ratio = 0\n",
    "        \n",
    "    x.append(i)\n",
    "    y.append(ratio)\n",
    "plt.plot(x, y)"
   ]
  },
  {
   "cell_type": "code",
   "execution_count": 24,
   "metadata": {},
   "outputs": [
    {
     "data": {
      "image/png": "[encoded data removed]",
      "text/plain": [
       "<matplotlib.figure.Figure at 0x1a2c331470>"
      ]
     },
     "metadata": {},
     "output_type": "display_data"
    }
   ],
   "source": [
    "sns.set_style(\"darkgrid\")\n",
    "fig, ax = plt.subplots(figsize = (8, 5))\n",
    "ax = plt.plot(x, y)\n",
    "plt.xlim(1800, 2010)\n",
    "plt.ylim(0,1)\n",
    "plt.savefig('percentlabeledfic.png', dpi = 400, bbox_inches = 'tight')\n",
    "plt.show()"
   ]
  },
  {
   "cell_type": "code",
   "execution_count": 23,
   "metadata": {},
   "outputs": [
    {
     "data": {
      "text/plain": [
       "2496"
      ]
     },
     "execution_count": 23,
     "metadata": {},
     "output_type": "execute_result"
    }
   ],
   "source": [
    "thesum = 0\n",
    "for k, v in alltitles.items():\n",
    "    thesum += v\n",
    "thesum"
   ]
  },
  {
   "cell_type": "code",
   "execution_count": null,
   "metadata": {
    "collapsed": true
   },
   "outputs": [],
   "source": []
  }
 ],
 "metadata": {
  "anaconda-cloud": {},
  "kernelspec": {
   "display_name": "Python 3",
   "language": "python",
   "name": "python3"
  },
  "language_info": {
   "codemirror_mode": {
    "name": "ipython",
    "version": 3
   },
   "file_extension": ".py",
   "mimetype": "text/x-python",
   "name": "python",
   "nbconvert_exporter": "python",
   "pygments_lexer": "ipython3",
   "version": "3.5.2"
  }
 },
 "nbformat": 4,
 "nbformat_minor": 1
}
